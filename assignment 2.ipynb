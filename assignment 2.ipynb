{
 "cells": [
  {
   "cell_type": "raw",
   "id": "5743a708-0630-44dc-8685-914265d51b03",
   "metadata": {},
   "source": [
    "Q1. What are the three measures of central tendency?\n",
    "ans:mean median mode\n"
   ]
  },
  {
   "cell_type": "raw",
   "id": "a01581a4-d491-4116-98b5-f6dc8fc2952f",
   "metadata": {},
   "source": [
    "Q2. What is the difference between the mean, median, and mode? How are they used to measure the\n",
    "central tendency of a dataset?\n",
    "ans:mean:equal distribution of data\n",
    "median:it focuses on central element of distribution,not based on all observation\n",
    "mode:focuses more on the frequency maximum element are occured [most frequent value"
   ]
  },
  {
   "cell_type": "code",
   "execution_count": 5,
   "id": "83aaa059-c093-448a-bc89-b4ab4b9929c5",
   "metadata": {},
   "outputs": [],
   "source": [
    "#Q3. Measure the three measures of central tendency for the given height data:\n",
    "import numpy as np#[178,177,176,177,178.2,17,175,179,180,175,178.9,176.2,177,172.5,178,176.5]\n",
    "list2=[178,177,176,177,178.2,178,175,179,180,175,178.9,176.2,177,172.5,178,176.5]"
   ]
  },
  {
   "cell_type": "code",
   "execution_count": 7,
   "id": "8c83291c-d326-4707-ac03-d2546600f073",
   "metadata": {},
   "outputs": [],
   "source": [
    "xi=sum(list2)"
   ]
  },
  {
   "cell_type": "code",
   "execution_count": 8,
   "id": "0ec38411-88e3-4b47-8b1f-79a2a2c0fff5",
   "metadata": {},
   "outputs": [
    {
     "data": {
      "text/plain": [
       "2832.3"
      ]
     },
     "execution_count": 8,
     "metadata": {},
     "output_type": "execute_result"
    }
   ],
   "source": [
    "xi\n"
   ]
  },
  {
   "cell_type": "code",
   "execution_count": null,
   "id": "a992089c-8f57-4225-aa02-c655d75bf767",
   "metadata": {},
   "outputs": [],
   "source": [
    "mean=xi/16"
   ]
  },
  {
   "cell_type": "code",
   "execution_count": 25,
   "id": "34834323-3036-4c91-a2db-d2c0f52d6b77",
   "metadata": {},
   "outputs": [
    {
     "data": {
      "text/plain": [
       "177.01875"
      ]
     },
     "execution_count": 25,
     "metadata": {},
     "output_type": "execute_result"
    }
   ],
   "source": [
    "mean"
   ]
  },
  {
   "cell_type": "code",
   "execution_count": 14,
   "id": "5b4a7323-09c3-434e-a43a-249bbd2521a4",
   "metadata": {},
   "outputs": [],
   "source": [
    "import scipy.stats as stat\n",
    "import numpy as np"
   ]
  },
  {
   "cell_type": "code",
   "execution_count": 17,
   "id": "19fc2e86-9109-4cac-b8f0-6983dce1b010",
   "metadata": {},
   "outputs": [],
   "source": [
    "mean=np.mean(list2)"
   ]
  },
  {
   "cell_type": "code",
   "execution_count": 18,
   "id": "d0988972-32de-4809-b7a5-42e73a38ec4c",
   "metadata": {},
   "outputs": [
    {
     "data": {
      "text/plain": [
       "177.01875"
      ]
     },
     "execution_count": 18,
     "metadata": {},
     "output_type": "execute_result"
    }
   ],
   "source": [
    "mean"
   ]
  },
  {
   "cell_type": "code",
   "execution_count": 20,
   "id": "c4f0b3d6-3756-40cc-9772-381e338f00d4",
   "metadata": {},
   "outputs": [
    {
     "name": "stderr",
     "output_type": "stream",
     "text": [
      "/tmp/ipykernel_116/4225265960.py:1: FutureWarning: Unlike other reduction functions (e.g. `skew`, `kurtosis`), the default behavior of `mode` typically preserves the axis it acts along. In SciPy 1.11.0, this behavior will change: the default value of `keepdims` will become False, the `axis` over which the statistic is taken will be eliminated, and the value None will no longer be accepted. Set `keepdims` to True or False to avoid this warning.\n",
      "  mode=stat.mode(list2)\n"
     ]
    }
   ],
   "source": [
    "mode=stat.mode(list2)"
   ]
  },
  {
   "cell_type": "code",
   "execution_count": 26,
   "id": "320b385d-d8f6-42bb-824d-caccd9d73c52",
   "metadata": {},
   "outputs": [
    {
     "data": {
      "text/plain": [
       "ModeResult(mode=array([177.]), count=array([3]))"
      ]
     },
     "execution_count": 26,
     "metadata": {},
     "output_type": "execute_result"
    }
   ],
   "source": [
    "mode "
   ]
  },
  {
   "cell_type": "code",
   "execution_count": 23,
   "id": "b145301b-f70c-41e3-b1e5-da3698c2c719",
   "metadata": {},
   "outputs": [],
   "source": [
    "median=np.median(list2)"
   ]
  },
  {
   "cell_type": "code",
   "execution_count": 24,
   "id": "95ea1f5b-626b-45a1-a8ea-dfb9cee315d4",
   "metadata": {},
   "outputs": [
    {
     "data": {
      "text/plain": [
       "177.0"
      ]
     },
     "execution_count": 24,
     "metadata": {},
     "output_type": "execute_result"
    }
   ],
   "source": [
    "median"
   ]
  },
  {
   "cell_type": "raw",
   "id": "43745028-105a-434e-a388-e02ed1e63530",
   "metadata": {},
   "source": [
    "Q4. Find the standard deviation for the given data:\n",
    "[178,177,176,177,178.2,178,175,179,180,175,178.9,176.2,177,172.5,178,176.5]"
   ]
  },
  {
   "cell_type": "code",
   "execution_count": 29,
   "id": "8b6bc3ec-b9f4-4665-866f-a9839c054f54",
   "metadata": {},
   "outputs": [],
   "source": [
    "std_deviation=np.std(list2)"
   ]
  },
  {
   "cell_type": "code",
   "execution_count": 30,
   "id": "a409f164-dc89-42f5-a638-3392c58314dd",
   "metadata": {},
   "outputs": [
    {
     "data": {
      "text/plain": [
       "1.7885814036548633"
      ]
     },
     "execution_count": 30,
     "metadata": {},
     "output_type": "execute_result"
    }
   ],
   "source": [
    "std_deviation"
   ]
  },
  {
   "cell_type": "raw",
   "id": "637ef996-548f-4aeb-b85f-b71236a36ed2",
   "metadata": {},
   "source": [
    "Q5. How are measures of dispersion such as range, variance, and standard deviation used to describe\n",
    "the spread of a dataset? Provide an example."
   ]
  },
  {
   "cell_type": "code",
   "execution_count": 31,
   "id": "29ad7bf0-18d9-43f5-951e-dbb72fe37e00",
   "metadata": {},
   "outputs": [],
   "source": [
    "age_dst=[23,34,45,67,89,69,70]"
   ]
  },
  {
   "cell_type": "code",
   "execution_count": 32,
   "id": "8b90a1b8-6d4e-4826-b33a-a95613ca8283",
   "metadata": {},
   "outputs": [],
   "source": [
    "var=np.var(age_dst)"
   ]
  },
  {
   "cell_type": "code",
   "execution_count": 33,
   "id": "593a4339-514d-4f78-9ae7-5214cb86d0da",
   "metadata": {},
   "outputs": [
    {
     "data": {
      "text/plain": [
       "466.4897959183673"
      ]
     },
     "execution_count": 33,
     "metadata": {},
     "output_type": "execute_result"
    }
   ],
   "source": [
    "var"
   ]
  },
  {
   "cell_type": "code",
   "execution_count": 34,
   "id": "f47b82c1-555f-4a0b-8a19-7d2f48e53436",
   "metadata": {},
   "outputs": [],
   "source": [
    "std=np.std(age_dst)"
   ]
  },
  {
   "cell_type": "code",
   "execution_count": 35,
   "id": "c37760fe-0e7f-400a-b027-cbc16827d498",
   "metadata": {},
   "outputs": [
    {
     "data": {
      "text/plain": [
       "21.598374844380476"
      ]
     },
     "execution_count": 35,
     "metadata": {},
     "output_type": "execute_result"
    }
   ],
   "source": [
    "std"
   ]
  },
  {
   "cell_type": "code",
   "execution_count": 38,
   "id": "56aa3590-7bfb-4c51-93bd-4841fd9fbca3",
   "metadata": {},
   "outputs": [],
   "source": [
    "lowest=min(age_dst)"
   ]
  },
  {
   "cell_type": "code",
   "execution_count": 39,
   "id": "b1bfce00-ef7e-4420-9a57-32814bc9ea32",
   "metadata": {},
   "outputs": [],
   "source": [
    "highest=max(age_dst)"
   ]
  },
  {
   "cell_type": "code",
   "execution_count": 42,
   "id": "82396c46-7c81-4b31-8465-f31ae82965b7",
   "metadata": {},
   "outputs": [],
   "source": [
    "range_set=highest-lowest"
   ]
  },
  {
   "cell_type": "code",
   "execution_count": 43,
   "id": "66fb1bf9-0404-452a-9815-122d0955c36b",
   "metadata": {},
   "outputs": [
    {
     "data": {
      "text/plain": [
       "66"
      ]
     },
     "execution_count": 43,
     "metadata": {},
     "output_type": "execute_result"
    }
   ],
   "source": [
    "range_set"
   ]
  },
  {
   "cell_type": "raw",
   "id": "6c02fa6d-cdde-4335-bded-5f1528e631df",
   "metadata": {},
   "source": [
    "Q6. What is a Venn diagram?\n",
    "ans:it illustrate the relationship between 2 0r more data sets\n",
    "a={1,2,3,4,5,6,7,8,9}\n",
    "b={2,4,5,6,7,8,9,10}\n"
   ]
  },
  {
   "cell_type": "raw",
   "id": "4aefe71d-ef68-4346-b30f-cc325858bf63",
   "metadata": {},
   "source": [
    "Q7. For the two given sets A = (2,3,4,5,6,7) & B = (0,2,6,8,10). Find:\n",
    "(i) A B\n",
    "(ii) A ⋃ B"
   ]
  },
  {
   "cell_type": "code",
   "execution_count": 55,
   "id": "e3f7b8cf-77fd-4f1a-b12e-1f6527e0b373",
   "metadata": {},
   "outputs": [],
   "source": [
    "a=[2,3,4,5,6,7]\n",
    "b=[0,2,6,8,10]"
   ]
  },
  {
   "cell_type": "code",
   "execution_count": 59,
   "id": "4498b3d7-e522-4b56-9cdd-8d3b5a303e69",
   "metadata": {},
   "outputs": [],
   "source": [
    "a=set(a)\n",
    "b=set(b)"
   ]
  },
  {
   "cell_type": "code",
   "execution_count": 60,
   "id": "529b8114-6f42-4f7e-8986-e94b1461b0f0",
   "metadata": {},
   "outputs": [],
   "source": [
    "union=a.union(b)"
   ]
  },
  {
   "cell_type": "code",
   "execution_count": 61,
   "id": "8f6e6b26-4a23-4305-8b3d-7f7abae2ae60",
   "metadata": {},
   "outputs": [
    {
     "name": "stdout",
     "output_type": "stream",
     "text": [
      "union of a and b {0, 2, 3, 4, 5, 6, 7, 8, 10}\n"
     ]
    }
   ],
   "source": [
    "print(\"union of a and b\",union)"
   ]
  },
  {
   "cell_type": "code",
   "execution_count": 63,
   "id": "894f4f29-b2a9-451d-97d3-3a12835e6bc2",
   "metadata": {},
   "outputs": [],
   "source": [
    "interaction=a.intersection(b)"
   ]
  },
  {
   "cell_type": "code",
   "execution_count": 67,
   "id": "f59402a8-e940-49e0-a1b6-66f62b7420f0",
   "metadata": {},
   "outputs": [
    {
     "name": "stdout",
     "output_type": "stream",
     "text": [
      "intersection of a and b {2, 6}\n"
     ]
    }
   ],
   "source": [
    "print(\"intersection of a and b\" ,interaction)"
   ]
  },
  {
   "cell_type": "raw",
   "id": "0c17e71c-68ac-4c99-b71c-8f51fd179c6a",
   "metadata": {},
   "source": [
    "Q8. What do you understand about skewness in data?\n",
    "ans:it is an symmetrical distribution of data spread where L=R\n",
    "mean=mode=median\n",
    "2 types\n",
    "1.right skew\n",
    "2.left skew"
   ]
  },
  {
   "cell_type": "raw",
   "id": "966eb89d-9f85-41d4-9fb6-769392872481",
   "metadata": {},
   "source": [
    "Q9. If a data is right skewed then what will be the position of median with respect to mean?\n",
    "ans:mean>median>mode"
   ]
  },
  {
   "cell_type": "raw",
   "id": "1c3a8889-3fa4-4a16-bb95-a62fb7d68f39",
   "metadata": {},
   "source": [
    "Q10. Explain the difference between covariance and correlation. How are these measures used in\n",
    "statistical analysis?\n",
    "ans:Covariance measures how much two variables vary together, while correlation measures how strongly two variables are related to each other.\n",
    "Covariance can take any value between -infinity and +infinity, while correlation can only take values between -1 and +1."
   ]
  },
  {
   "cell_type": "raw",
   "id": "04ed5d3b-0b0e-4c51-a664-c9efa52a9b23",
   "metadata": {},
   "source": [
    "Q11. What is the formula for calculating the sample mean? Provide an example calculation for a dataset\n",
    "ans:sample mean=xi/n where i=1,2,3,4,........\n",
    "example:\n",
    "x=[1,2,3,4,5,6,7,8,9,10]\n"
   ]
  },
  {
   "cell_type": "code",
   "execution_count": 73,
   "id": "b6670e77-408e-494b-8543-03f4e6d8fc0a",
   "metadata": {},
   "outputs": [
    {
     "name": "stdout",
     "output_type": "stream",
     "text": [
      "[1, 2, 3, 4, 5, 6, 7, 8, 9, 10]\n",
      "mean of x is 5.5\n"
     ]
    }
   ],
   "source": [
    "x=[1,2,3,4,5,6,7,8,9,10]\n",
    "mean=np.mean(x)\n",
    "print(x)\n",
    "print(\"mean of x is\",mean)"
   ]
  },
  {
   "cell_type": "raw",
   "id": "c82f0539-0e05-4d02-86c6-9070a54d2140",
   "metadata": {},
   "source": [
    "Q12. For a normal distribution data what is the relationship between its measure of central tendency?\n",
    "ans:mean=median=mode the mean ,median,mode all are perfectly at a center"
   ]
  },
  {
   "cell_type": "raw",
   "id": "921d25e4-0db7-4b2b-807c-f0632dea0bda",
   "metadata": {},
   "source": [
    "Q13. How is covariance different from correlation?\n",
    "ans:covariance is  to find out the relationship between x and y but in correlation defines  the strength ,degree,rank of x and y"
   ]
  },
  {
   "cell_type": "raw",
   "id": "af2ab6ec-3ad5-438b-973c-eaae6a8ea9a0",
   "metadata": {},
   "source": [
    "Q14. How do outliers affect measures of central tendency and dispersion? Provide an example."
   ]
  },
  {
   "cell_type": "code",
   "execution_count": 74,
   "id": "8d4c1700-220e-4fe9-b8f0-88d724fcd950",
   "metadata": {},
   "outputs": [],
   "source": [
    "## example\n",
    "s=[1,2,3,4,5,6,7]"
   ]
  },
  {
   "cell_type": "code",
   "execution_count": 75,
   "id": "cb89d31c-8f48-462e-89d7-ba117db513d7",
   "metadata": {},
   "outputs": [],
   "source": [
    "mean=np.mean(s)"
   ]
  },
  {
   "cell_type": "code",
   "execution_count": 76,
   "id": "f5c354fb-e741-474d-be84-4b44ca18e9d7",
   "metadata": {},
   "outputs": [
    {
     "data": {
      "text/plain": [
       "4.0"
      ]
     },
     "execution_count": 76,
     "metadata": {},
     "output_type": "execute_result"
    }
   ],
   "source": [
    "mean"
   ]
  },
  {
   "cell_type": "code",
   "execution_count": 77,
   "id": "704345fe-9654-4dfc-b3fd-01f97eeacb68",
   "metadata": {},
   "outputs": [],
   "source": [
    "meadian=np.median(s)"
   ]
  },
  {
   "cell_type": "code",
   "execution_count": 78,
   "id": "cfe6e606-b856-4ca2-a2f1-fbb7fc13e646",
   "metadata": {},
   "outputs": [
    {
     "data": {
      "text/plain": [
       "4.0"
      ]
     },
     "execution_count": 78,
     "metadata": {},
     "output_type": "execute_result"
    }
   ],
   "source": [
    "meadian"
   ]
  },
  {
   "cell_type": "code",
   "execution_count": 80,
   "id": "adcdf220-cdbf-4ef6-9fec-58f60670c0d0",
   "metadata": {},
   "outputs": [],
   "source": [
    "## adding outliers into s dataset\n",
    "s1=[1,2,3,4,5,6,7,100]"
   ]
  },
  {
   "cell_type": "code",
   "execution_count": 81,
   "id": "bd91f9d7-7c00-4d0e-acb5-02af8bf1baac",
   "metadata": {},
   "outputs": [
    {
     "name": "stdout",
     "output_type": "stream",
     "text": [
      "4.5\n"
     ]
    }
   ],
   "source": [
    " print(np.median(s1))"
   ]
  },
  {
   "cell_type": "code",
   "execution_count": 83,
   "id": "49a17f9d-9dd1-4432-a920-89958d8b453d",
   "metadata": {},
   "outputs": [
    {
     "name": "stdout",
     "output_type": "stream",
     "text": [
      "16.0\n"
     ]
    }
   ],
   "source": [
    " print(np.mean(s1))"
   ]
  },
  {
   "cell_type": "code",
   "execution_count": null,
   "id": "d0df7823-1e22-4554-b063-11dcf46f8ed7",
   "metadata": {},
   "outputs": [],
   "source": [
    "here after adding an outliers the  mean changed to 4.0to 16.0 "
   ]
  }
 ],
 "metadata": {
  "kernelspec": {
   "display_name": "Python 3 (ipykernel)",
   "language": "python",
   "name": "python3"
  },
  "language_info": {
   "codemirror_mode": {
    "name": "ipython",
    "version": 3
   },
   "file_extension": ".py",
   "mimetype": "text/x-python",
   "name": "python",
   "nbconvert_exporter": "python",
   "pygments_lexer": "ipython3",
   "version": "3.10.8"
  }
 },
 "nbformat": 4,
 "nbformat_minor": 5
}
